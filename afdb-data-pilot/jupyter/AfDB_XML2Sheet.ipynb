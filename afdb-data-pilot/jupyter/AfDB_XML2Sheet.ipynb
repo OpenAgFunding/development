{
 "cells": [
  {
   "cell_type": "code",
   "execution_count": 5,
   "metadata": {
    "collapsed": false
   },
   "outputs": [
    {
     "name": "stdout",
     "output_type": "stream",
     "text": [
      "afdb_ag_activities.xml\n",
      "data.yaml\n",
      "getter.sh\n",
      "jupyter\n",
      "raw_afdb_data\n"
     ]
    }
   ],
   "source": [
    "%%bash\n",
    "\n",
    "cd ..\n",
    "ls"
   ]
  },
  {
   "cell_type": "code",
   "execution_count": 3,
   "metadata": {
    "collapsed": false
   },
   "outputs": [],
   "source": [
    "import xml.etree.ElementTree as ET\n",
    "tree = ET.parse('../afdb_ag_activities.xml')\n",
    "root = tree.getroot()"
   ]
  },
  {
   "cell_type": "code",
   "execution_count": 10,
   "metadata": {
    "collapsed": false
   },
   "outputs": [
    {
     "name": "stdout",
     "output_type": "stream",
     "text": [
      "1\n",
      "1\n",
      "1\n",
      "1\n",
      "1\n",
      "1\n",
      "1\n",
      "1\n",
      "1\n",
      "1\n"
     ]
    }
   ],
   "source": [
    "xml_activities = root.getchildren()\n",
    "activity = {} \n",
    "for xml_activity in xml_activities:\n",
    "    \n",
    "    activity['iati-identifier'] = xml_activity.find('iati-identifier').text\n",
    "    activity['title'] = xml_activity.find('title').find('narrative').text\n",
    "    \n",
    "    \n",
    "    activity['description_1'] = xml_activity.findall('description')[0]\n",
    "    \n",
    "    activity['num_descriptions'] = len(xml_activity.findall('description'))\n",
    "    \n",
    "    activity['sector_code'] = xml_activity.find('sector').attrib['code']\n",
    "    \n",
    "    activity['sector_description'] = xml_activity.find('sector').find('narrative').text\n",
    "\n",
    "\n",
    "    \n",
    "    print(activity['num_descriptions'])\n",
    "\n",
    "    \"\"\"\n",
    "    activity_dict['title']\n",
    "    activity_dict['description']\n",
    "    activity_dict['sector_code']\n",
    "    activity_dict['sector_description']\n",
    "    \n",
    "    \n",
    "    print(xml_activity.findall('description').find('narrative').text)\n",
    "    \n",
    "    \"\"\""
   ]
  },
  {
   "cell_type": "code",
   "execution_count": null,
   "metadata": {
    "collapsed": true
   },
   "outputs": [],
   "source": []
  }
 ],
 "metadata": {
  "anaconda-cloud": {},
  "kernelspec": {
   "display_name": "Python [conda root]",
   "language": "python",
   "name": "conda-root-py"
  },
  "language_info": {
   "codemirror_mode": {
    "name": "ipython",
    "version": 3
   },
   "file_extension": ".py",
   "mimetype": "text/x-python",
   "name": "python",
   "nbconvert_exporter": "python",
   "pygments_lexer": "ipython3",
   "version": "3.5.2"
  }
 },
 "nbformat": 4,
 "nbformat_minor": 1
}
